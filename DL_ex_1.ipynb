{
  "nbformat": 4,
  "nbformat_minor": 0,
  "metadata": {
    "colab": {
      "provenance": []
    },
    "kernelspec": {
      "name": "python3",
      "display_name": "Python 3"
    },
    "language_info": {
      "name": "python"
    }
  },
  "cells": [
    {
      "cell_type": "code",
      "execution_count": null,
      "metadata": {
        "id": "T8X05W1rbodP"
      },
      "outputs": [],
      "source": [
        "from google.colab import auth\n",
        "import gspread\n",
        "from google.auth import default\n",
        "\n",
        "import pandas as pd\n",
        "from sklearn.model_selection import train_test_split\n",
        "from sklearn.preprocessing import MinMaxScaler\n",
        "import matplotlib.pyplot as plt\n",
        "\n",
        "from tensorflow.keras.models import Sequential as Seq\n",
        "from tensorflow.keras.layers import Dense as Den\n",
        "from tensorflow.keras.metrics import RootMeanSquaredError as rmse\n"
      ]
    },
    {
      "cell_type": "code",
      "source": [
        "auth.authenticate_user()\n",
        "creds, _ = default()\n",
        "gc = gspread.authorize(creds)"
      ],
      "metadata": {
        "id": "WFaun7HUcWGq"
      },
      "execution_count": null,
      "outputs": []
    },
    {
      "cell_type": "code",
      "source": [
        "worksheet = gc.open(\"DL ex 1\").sheet1\n",
        "rows=worksheet.get_all_values()"
      ],
      "metadata": {
        "id": "YxMw9laPcjHC"
      },
      "execution_count": null,
      "outputs": []
    },
    {
      "cell_type": "code",
      "source": [
        "df = pd.DataFrame(rows[1:], columns=rows[0])\n",
        "df = df.astype({'Input':'int'})\n",
        "df = df.astype({'Output':'int'})\n",
        "print(df)\n"
      ],
      "metadata": {
        "colab": {
          "base_uri": "https://localhost:8080/"
        },
        "id": "Bmwtap0Kcx3Z",
        "outputId": "89c7ff16-ea1e-4a65-ee30-787bb1697c4f"
      },
      "execution_count": null,
      "outputs": [
        {
          "output_type": "stream",
          "name": "stdout",
          "text": [
            "    Input  Output\n",
            "0       1       8\n",
            "1       2      14\n",
            "2       3      20\n",
            "3       4      26\n",
            "4       5      32\n",
            "5       6      38\n",
            "6       7      44\n",
            "7       8      50\n",
            "8       9      56\n",
            "9      10      62\n",
            "10     11      68\n",
            "11     12      74\n",
            "12     13      80\n",
            "13     14      86\n",
            "14     15      92\n",
            "15     16      98\n",
            "16     17     104\n",
            "17     18     110\n",
            "18     19     116\n",
            "19     20     122\n"
          ]
        }
      ]
    },
    {
      "cell_type": "code",
      "source": [
        "df.head()\n"
      ],
      "metadata": {
        "colab": {
          "base_uri": "https://localhost:8080/",
          "height": 206
        },
        "id": "B9i9ozDbUiFv",
        "outputId": "7daf1bd2-5adb-4eec-b885-18101a35e90a"
      },
      "execution_count": null,
      "outputs": [
        {
          "output_type": "execute_result",
          "data": {
            "text/plain": [
              "   Input  Output\n",
              "0      1       8\n",
              "1      2      14\n",
              "2      3      20\n",
              "3      4      26\n",
              "4      5      32"
            ],
            "text/html": [
              "\n",
              "  <div id=\"df-fbf9d102-1622-460c-a159-22db1b2bcc77\" class=\"colab-df-container\">\n",
              "    <div>\n",
              "<style scoped>\n",
              "    .dataframe tbody tr th:only-of-type {\n",
              "        vertical-align: middle;\n",
              "    }\n",
              "\n",
              "    .dataframe tbody tr th {\n",
              "        vertical-align: top;\n",
              "    }\n",
              "\n",
              "    .dataframe thead th {\n",
              "        text-align: right;\n",
              "    }\n",
              "</style>\n",
              "<table border=\"1\" class=\"dataframe\">\n",
              "  <thead>\n",
              "    <tr style=\"text-align: right;\">\n",
              "      <th></th>\n",
              "      <th>Input</th>\n",
              "      <th>Output</th>\n",
              "    </tr>\n",
              "  </thead>\n",
              "  <tbody>\n",
              "    <tr>\n",
              "      <th>0</th>\n",
              "      <td>1</td>\n",
              "      <td>8</td>\n",
              "    </tr>\n",
              "    <tr>\n",
              "      <th>1</th>\n",
              "      <td>2</td>\n",
              "      <td>14</td>\n",
              "    </tr>\n",
              "    <tr>\n",
              "      <th>2</th>\n",
              "      <td>3</td>\n",
              "      <td>20</td>\n",
              "    </tr>\n",
              "    <tr>\n",
              "      <th>3</th>\n",
              "      <td>4</td>\n",
              "      <td>26</td>\n",
              "    </tr>\n",
              "    <tr>\n",
              "      <th>4</th>\n",
              "      <td>5</td>\n",
              "      <td>32</td>\n",
              "    </tr>\n",
              "  </tbody>\n",
              "</table>\n",
              "</div>\n",
              "    <div class=\"colab-df-buttons\">\n",
              "\n",
              "  <div class=\"colab-df-container\">\n",
              "    <button class=\"colab-df-convert\" onclick=\"convertToInteractive('df-fbf9d102-1622-460c-a159-22db1b2bcc77')\"\n",
              "            title=\"Convert this dataframe to an interactive table.\"\n",
              "            style=\"display:none;\">\n",
              "\n",
              "  <svg xmlns=\"http://www.w3.org/2000/svg\" height=\"24px\" viewBox=\"0 -960 960 960\">\n",
              "    <path d=\"M120-120v-720h720v720H120Zm60-500h600v-160H180v160Zm220 220h160v-160H400v160Zm0 220h160v-160H400v160ZM180-400h160v-160H180v160Zm440 0h160v-160H620v160ZM180-180h160v-160H180v160Zm440 0h160v-160H620v160Z\"/>\n",
              "  </svg>\n",
              "    </button>\n",
              "\n",
              "  <style>\n",
              "    .colab-df-container {\n",
              "      display:flex;\n",
              "      gap: 12px;\n",
              "    }\n",
              "\n",
              "    .colab-df-convert {\n",
              "      background-color: #E8F0FE;\n",
              "      border: none;\n",
              "      border-radius: 50%;\n",
              "      cursor: pointer;\n",
              "      display: none;\n",
              "      fill: #1967D2;\n",
              "      height: 32px;\n",
              "      padding: 0 0 0 0;\n",
              "      width: 32px;\n",
              "    }\n",
              "\n",
              "    .colab-df-convert:hover {\n",
              "      background-color: #E2EBFA;\n",
              "      box-shadow: 0px 1px 2px rgba(60, 64, 67, 0.3), 0px 1px 3px 1px rgba(60, 64, 67, 0.15);\n",
              "      fill: #174EA6;\n",
              "    }\n",
              "\n",
              "    .colab-df-buttons div {\n",
              "      margin-bottom: 4px;\n",
              "    }\n",
              "\n",
              "    [theme=dark] .colab-df-convert {\n",
              "      background-color: #3B4455;\n",
              "      fill: #D2E3FC;\n",
              "    }\n",
              "\n",
              "    [theme=dark] .colab-df-convert:hover {\n",
              "      background-color: #434B5C;\n",
              "      box-shadow: 0px 1px 3px 1px rgba(0, 0, 0, 0.15);\n",
              "      filter: drop-shadow(0px 1px 2px rgba(0, 0, 0, 0.3));\n",
              "      fill: #FFFFFF;\n",
              "    }\n",
              "  </style>\n",
              "\n",
              "    <script>\n",
              "      const buttonEl =\n",
              "        document.querySelector('#df-fbf9d102-1622-460c-a159-22db1b2bcc77 button.colab-df-convert');\n",
              "      buttonEl.style.display =\n",
              "        google.colab.kernel.accessAllowed ? 'block' : 'none';\n",
              "\n",
              "      async function convertToInteractive(key) {\n",
              "        const element = document.querySelector('#df-fbf9d102-1622-460c-a159-22db1b2bcc77');\n",
              "        const dataTable =\n",
              "          await google.colab.kernel.invokeFunction('convertToInteractive',\n",
              "                                                    [key], {});\n",
              "        if (!dataTable) return;\n",
              "\n",
              "        const docLinkHtml = 'Like what you see? Visit the ' +\n",
              "          '<a target=\"_blank\" href=https://colab.research.google.com/notebooks/data_table.ipynb>data table notebook</a>'\n",
              "          + ' to learn more about interactive tables.';\n",
              "        element.innerHTML = '';\n",
              "        dataTable['output_type'] = 'display_data';\n",
              "        await google.colab.output.renderOutput(dataTable, element);\n",
              "        const docLink = document.createElement('div');\n",
              "        docLink.innerHTML = docLinkHtml;\n",
              "        element.appendChild(docLink);\n",
              "      }\n",
              "    </script>\n",
              "  </div>\n",
              "\n",
              "\n",
              "<div id=\"df-f83800f4-354c-4e6f-89b9-733874e5c67d\">\n",
              "  <button class=\"colab-df-quickchart\" onclick=\"quickchart('df-f83800f4-354c-4e6f-89b9-733874e5c67d')\"\n",
              "            title=\"Suggest charts\"\n",
              "            style=\"display:none;\">\n",
              "\n",
              "<svg xmlns=\"http://www.w3.org/2000/svg\" height=\"24px\"viewBox=\"0 0 24 24\"\n",
              "     width=\"24px\">\n",
              "    <g>\n",
              "        <path d=\"M19 3H5c-1.1 0-2 .9-2 2v14c0 1.1.9 2 2 2h14c1.1 0 2-.9 2-2V5c0-1.1-.9-2-2-2zM9 17H7v-7h2v7zm4 0h-2V7h2v10zm4 0h-2v-4h2v4z\"/>\n",
              "    </g>\n",
              "</svg>\n",
              "  </button>\n",
              "\n",
              "<style>\n",
              "  .colab-df-quickchart {\n",
              "      --bg-color: #E8F0FE;\n",
              "      --fill-color: #1967D2;\n",
              "      --hover-bg-color: #E2EBFA;\n",
              "      --hover-fill-color: #174EA6;\n",
              "      --disabled-fill-color: #AAA;\n",
              "      --disabled-bg-color: #DDD;\n",
              "  }\n",
              "\n",
              "  [theme=dark] .colab-df-quickchart {\n",
              "      --bg-color: #3B4455;\n",
              "      --fill-color: #D2E3FC;\n",
              "      --hover-bg-color: #434B5C;\n",
              "      --hover-fill-color: #FFFFFF;\n",
              "      --disabled-bg-color: #3B4455;\n",
              "      --disabled-fill-color: #666;\n",
              "  }\n",
              "\n",
              "  .colab-df-quickchart {\n",
              "    background-color: var(--bg-color);\n",
              "    border: none;\n",
              "    border-radius: 50%;\n",
              "    cursor: pointer;\n",
              "    display: none;\n",
              "    fill: var(--fill-color);\n",
              "    height: 32px;\n",
              "    padding: 0;\n",
              "    width: 32px;\n",
              "  }\n",
              "\n",
              "  .colab-df-quickchart:hover {\n",
              "    background-color: var(--hover-bg-color);\n",
              "    box-shadow: 0 1px 2px rgba(60, 64, 67, 0.3), 0 1px 3px 1px rgba(60, 64, 67, 0.15);\n",
              "    fill: var(--button-hover-fill-color);\n",
              "  }\n",
              "\n",
              "  .colab-df-quickchart-complete:disabled,\n",
              "  .colab-df-quickchart-complete:disabled:hover {\n",
              "    background-color: var(--disabled-bg-color);\n",
              "    fill: var(--disabled-fill-color);\n",
              "    box-shadow: none;\n",
              "  }\n",
              "\n",
              "  .colab-df-spinner {\n",
              "    border: 2px solid var(--fill-color);\n",
              "    border-color: transparent;\n",
              "    border-bottom-color: var(--fill-color);\n",
              "    animation:\n",
              "      spin 1s steps(1) infinite;\n",
              "  }\n",
              "\n",
              "  @keyframes spin {\n",
              "    0% {\n",
              "      border-color: transparent;\n",
              "      border-bottom-color: var(--fill-color);\n",
              "      border-left-color: var(--fill-color);\n",
              "    }\n",
              "    20% {\n",
              "      border-color: transparent;\n",
              "      border-left-color: var(--fill-color);\n",
              "      border-top-color: var(--fill-color);\n",
              "    }\n",
              "    30% {\n",
              "      border-color: transparent;\n",
              "      border-left-color: var(--fill-color);\n",
              "      border-top-color: var(--fill-color);\n",
              "      border-right-color: var(--fill-color);\n",
              "    }\n",
              "    40% {\n",
              "      border-color: transparent;\n",
              "      border-right-color: var(--fill-color);\n",
              "      border-top-color: var(--fill-color);\n",
              "    }\n",
              "    60% {\n",
              "      border-color: transparent;\n",
              "      border-right-color: var(--fill-color);\n",
              "    }\n",
              "    80% {\n",
              "      border-color: transparent;\n",
              "      border-right-color: var(--fill-color);\n",
              "      border-bottom-color: var(--fill-color);\n",
              "    }\n",
              "    90% {\n",
              "      border-color: transparent;\n",
              "      border-bottom-color: var(--fill-color);\n",
              "    }\n",
              "  }\n",
              "</style>\n",
              "\n",
              "  <script>\n",
              "    async function quickchart(key) {\n",
              "      const quickchartButtonEl =\n",
              "        document.querySelector('#' + key + ' button');\n",
              "      quickchartButtonEl.disabled = true;  // To prevent multiple clicks.\n",
              "      quickchartButtonEl.classList.add('colab-df-spinner');\n",
              "      try {\n",
              "        const charts = await google.colab.kernel.invokeFunction(\n",
              "            'suggestCharts', [key], {});\n",
              "      } catch (error) {\n",
              "        console.error('Error during call to suggestCharts:', error);\n",
              "      }\n",
              "      quickchartButtonEl.classList.remove('colab-df-spinner');\n",
              "      quickchartButtonEl.classList.add('colab-df-quickchart-complete');\n",
              "    }\n",
              "    (() => {\n",
              "      let quickchartButtonEl =\n",
              "        document.querySelector('#df-f83800f4-354c-4e6f-89b9-733874e5c67d button');\n",
              "      quickchartButtonEl.style.display =\n",
              "        google.colab.kernel.accessAllowed ? 'block' : 'none';\n",
              "    })();\n",
              "  </script>\n",
              "</div>\n",
              "\n",
              "    </div>\n",
              "  </div>\n"
            ],
            "application/vnd.google.colaboratory.intrinsic+json": {
              "type": "dataframe",
              "variable_name": "df",
              "summary": "{\n  \"name\": \"df\",\n  \"rows\": 20,\n  \"fields\": [\n    {\n      \"column\": \"Input\",\n      \"properties\": {\n        \"dtype\": \"number\",\n        \"std\": 5,\n        \"min\": 1,\n        \"max\": 20,\n        \"num_unique_values\": 20,\n        \"samples\": [\n          1,\n          18,\n          16\n        ],\n        \"semantic_type\": \"\",\n        \"description\": \"\"\n      }\n    },\n    {\n      \"column\": \"Output\",\n      \"properties\": {\n        \"dtype\": \"number\",\n        \"std\": 35,\n        \"min\": 8,\n        \"max\": 122,\n        \"num_unique_values\": 20,\n        \"samples\": [\n          8,\n          110,\n          98\n        ],\n        \"semantic_type\": \"\",\n        \"description\": \"\"\n      }\n    }\n  ]\n}"
            }
          },
          "metadata": {},
          "execution_count": 21
        }
      ]
    },
    {
      "cell_type": "code",
      "source": [
        " x = df[[\"Input\"]] .values\n",
        " y = df[[\"Output\"]].values"
      ],
      "metadata": {
        "id": "Ag2nNydiUlG_"
      },
      "execution_count": null,
      "outputs": []
    },
    {
      "cell_type": "code",
      "source": [
        "scaler = MinMaxScaler()\n",
        "scaler.fit(x)\n",
        "x_n = scaler.fit_transform(x)\n",
        "x_train,x_test,y_train,y_test = train_test_split(x_n,y,test_size = 0.3,random_state = 3)\n",
        "print(x_train)\n",
        "print(x_test)"
      ],
      "metadata": {
        "colab": {
          "base_uri": "https://localhost:8080/"
        },
        "id": "oOhFsyc_Upd8",
        "outputId": "03e4bfa9-76d3-4902-dcec-7f109a3f851a"
      },
      "execution_count": null,
      "outputs": [
        {
          "output_type": "stream",
          "name": "stdout",
          "text": [
            "[[0.31578947]\n",
            " [0.36842105]\n",
            " [0.78947368]\n",
            " [0.63157895]\n",
            " [0.47368421]\n",
            " [0.57894737]\n",
            " [1.        ]\n",
            " [0.94736842]\n",
            " [0.68421053]\n",
            " [0.26315789]\n",
            " [0.        ]\n",
            " [0.42105263]\n",
            " [0.15789474]\n",
            " [0.52631579]]\n",
            "[[0.73684211]\n",
            " [0.10526316]\n",
            " [0.05263158]\n",
            " [0.89473684]\n",
            " [0.21052632]\n",
            " [0.84210526]]\n"
          ]
        }
      ]
    },
    {
      "cell_type": "code",
      "source": [
        "from tensorflow.keras.models import Sequential as Seq\n",
        "from tensorflow.keras.layers import Dense as Den\n",
        "from tensorflow.keras.metrics import RootMeanSquaredError as rmse\n",
        "model = Seq([\n",
        "Den(4,activation = 'relu',input_shape=[1]),\n",
        "Den(6),\n",
        "Den(3,activation = 'relu'),\n",
        "Den(1),\n",
        "])\n",
        "\n",
        "model.summary()"
      ],
      "metadata": {
        "id": "phN9YC8dZzSy",
        "colab": {
          "base_uri": "https://localhost:8080/"
        },
        "outputId": "c202b939-75fe-4108-c31a-0a1fbd9c92c8"
      },
      "execution_count": null,
      "outputs": [
        {
          "output_type": "stream",
          "name": "stdout",
          "text": [
            "Model: \"sequential_1\"\n",
            "_________________________________________________________________\n",
            " Layer (type)                Output Shape              Param #   \n",
            "=================================================================\n",
            " dense_4 (Dense)             (None, 4)                 8         \n",
            "                                                                 \n",
            " dense_5 (Dense)             (None, 6)                 30        \n",
            "                                                                 \n",
            " dense_6 (Dense)             (None, 3)                 21        \n",
            "                                                                 \n",
            " dense_7 (Dense)             (None, 1)                 4         \n",
            "                                                                 \n",
            "=================================================================\n",
            "Total params: 63 (252.00 Byte)\n",
            "Trainable params: 63 (252.00 Byte)\n",
            "Non-trainable params: 0 (0.00 Byte)\n",
            "_________________________________________________________________\n"
          ]
        }
      ]
    },
    {
      "cell_type": "code",
      "source": [
        " model.compile(optimizer = 'rmsprop',loss = 'mse')\n",
        " model.fit(x_train,y_train,epochs=20)\n",
        " model.fit(x_train,y_train,epochs=20)"
      ],
      "metadata": {
        "colab": {
          "base_uri": "https://localhost:8080/"
        },
        "id": "wPB99mj1aT_t",
        "outputId": "82d0b57b-543a-4524-c00d-2a9016feffcc"
      },
      "execution_count": null,
      "outputs": [
        {
          "output_type": "stream",
          "name": "stdout",
          "text": [
            "Epoch 1/20\n",
            "1/1 [==============================] - 1s 742ms/step - loss: 5394.5312\n",
            "Epoch 2/20\n",
            "1/1 [==============================] - 0s 11ms/step - loss: 5392.8232\n",
            "Epoch 3/20\n",
            "1/1 [==============================] - 0s 11ms/step - loss: 5391.6128\n",
            "Epoch 4/20\n",
            "1/1 [==============================] - 0s 9ms/step - loss: 5390.6323\n",
            "Epoch 5/20\n",
            "1/1 [==============================] - 0s 10ms/step - loss: 5389.7900\n",
            "Epoch 6/20\n",
            "1/1 [==============================] - 0s 10ms/step - loss: 5389.0859\n",
            "Epoch 7/20\n",
            "1/1 [==============================] - 0s 10ms/step - loss: 5388.4741\n",
            "Epoch 8/20\n",
            "1/1 [==============================] - 0s 9ms/step - loss: 5387.9429\n",
            "Epoch 9/20\n",
            "1/1 [==============================] - 0s 9ms/step - loss: 5387.4844\n",
            "Epoch 10/20\n",
            "1/1 [==============================] - 0s 9ms/step - loss: 5387.0952\n",
            "Epoch 11/20\n",
            "1/1 [==============================] - 0s 8ms/step - loss: 5386.7847\n",
            "Epoch 12/20\n",
            "1/1 [==============================] - 0s 9ms/step - loss: 5386.5234\n",
            "Epoch 13/20\n",
            "1/1 [==============================] - 0s 8ms/step - loss: 5386.2646\n",
            "Epoch 14/20\n",
            "1/1 [==============================] - 0s 9ms/step - loss: 5386.0244\n",
            "Epoch 15/20\n",
            "1/1 [==============================] - 0s 9ms/step - loss: 5385.8149\n",
            "Epoch 16/20\n",
            "1/1 [==============================] - 0s 9ms/step - loss: 5385.6069\n",
            "Epoch 17/20\n",
            "1/1 [==============================] - 0s 9ms/step - loss: 5385.3979\n",
            "Epoch 18/20\n",
            "1/1 [==============================] - 0s 9ms/step - loss: 5385.2183\n",
            "Epoch 19/20\n",
            "1/1 [==============================] - 0s 8ms/step - loss: 5385.0693\n",
            "Epoch 20/20\n",
            "1/1 [==============================] - 0s 8ms/step - loss: 5384.9272\n",
            "Epoch 1/20\n",
            "1/1 [==============================] - 0s 14ms/step - loss: 5384.7856\n",
            "Epoch 2/20\n",
            "1/1 [==============================] - 0s 9ms/step - loss: 5384.6450\n",
            "Epoch 3/20\n",
            "1/1 [==============================] - 0s 9ms/step - loss: 5384.5054\n",
            "Epoch 4/20\n",
            "1/1 [==============================] - 0s 9ms/step - loss: 5384.3672\n",
            "Epoch 5/20\n",
            "1/1 [==============================] - 0s 8ms/step - loss: 5384.2280\n",
            "Epoch 6/20\n",
            "1/1 [==============================] - 0s 8ms/step - loss: 5384.0908\n",
            "Epoch 7/20\n",
            "1/1 [==============================] - 0s 9ms/step - loss: 5383.9541\n",
            "Epoch 8/20\n",
            "1/1 [==============================] - 0s 9ms/step - loss: 5383.8179\n",
            "Epoch 9/20\n",
            "1/1 [==============================] - 0s 10ms/step - loss: 5383.6812\n",
            "Epoch 10/20\n",
            "1/1 [==============================] - 0s 10ms/step - loss: 5383.5459\n",
            "Epoch 11/20\n",
            "1/1 [==============================] - 0s 9ms/step - loss: 5383.4106\n",
            "Epoch 12/20\n",
            "1/1 [==============================] - 0s 10ms/step - loss: 5383.2759\n",
            "Epoch 13/20\n",
            "1/1 [==============================] - 0s 10ms/step - loss: 5383.1406\n",
            "Epoch 14/20\n",
            "1/1 [==============================] - 0s 9ms/step - loss: 5383.0068\n",
            "Epoch 15/20\n",
            "1/1 [==============================] - 0s 10ms/step - loss: 5382.8716\n",
            "Epoch 16/20\n",
            "1/1 [==============================] - 0s 9ms/step - loss: 5382.7378\n",
            "Epoch 17/20\n",
            "1/1 [==============================] - 0s 10ms/step - loss: 5382.6030\n",
            "Epoch 18/20\n",
            "1/1 [==============================] - 0s 9ms/step - loss: 5382.4697\n",
            "Epoch 19/20\n",
            "1/1 [==============================] - 0s 9ms/step - loss: 5382.3359\n",
            "Epoch 20/20\n",
            "1/1 [==============================] - 0s 9ms/step - loss: 5382.2026\n"
          ]
        },
        {
          "output_type": "execute_result",
          "data": {
            "text/plain": [
              "<keras.src.callbacks.History at 0x7b524c19e110>"
            ]
          },
          "metadata": {},
          "execution_count": 26
        }
      ]
    },
    {
      "cell_type": "code",
      "source": [
        "loss_plot = pd.DataFrame(model.history.history)\n",
        "loss_plot.plot()\n"
      ],
      "metadata": {
        "colab": {
          "base_uri": "https://localhost:8080/",
          "height": 447
        },
        "id": "f2tJdx4wae56",
        "outputId": "50bada63-60ee-431b-bdf9-6cd5d947ab06"
      },
      "execution_count": null,
      "outputs": [
        {
          "output_type": "execute_result",
          "data": {
            "text/plain": [
              "<Axes: >"
            ]
          },
          "metadata": {},
          "execution_count": 30
        },
        {
          "output_type": "display_data",
          "data": {
            "text/plain": [
              "<Figure size 640x480 with 1 Axes>"
            ],
            "image/png": "[encoded data removed]"
          },
          "metadata": {}
        }
      ]
    },
    {
      "cell_type": "code",
      "source": [
        " err = rmse()\n",
        " preds = model.predict(x_test)\n",
        " err(y_test,preds)"
      ],
      "metadata": {
        "colab": {
          "base_uri": "https://localhost:8080/"
        },
        "id": "qB6idIpRalIO",
        "outputId": "b45cffc5-29ef-447a-b648-459d83be6a44"
      },
      "execution_count": null,
      "outputs": [
        {
          "output_type": "stream",
          "name": "stdout",
          "text": [
            "1/1 [==============================] - 0s 71ms/step\n"
          ]
        },
        {
          "output_type": "execute_result",
          "data": {
            "text/plain": [
              "<tf.Tensor: shape=(), dtype=float32, numpy=73.5562>"
            ]
          },
          "metadata": {},
          "execution_count": 31
        }
      ]
    },
    {
      "cell_type": "code",
      "source": [
        " x_n1 = [[30]]\n",
        " x_n_n = scaler.transform(x_n1)\n",
        " model.predict(x_n_n)"
      ],
      "metadata": {
        "colab": {
          "base_uri": "https://localhost:8080/"
        },
        "id": "V7msM5Wwapj1",
        "outputId": "2c92905d-1a64-4027-b411-17001ea67f15"
      },
      "execution_count": null,
      "outputs": [
        {
          "output_type": "stream",
          "name": "stdout",
          "text": [
            "1/1 [==============================] - 0s 22ms/step\n"
          ]
        },
        {
          "output_type": "execute_result",
          "data": {
            "text/plain": [
              "array([[1.2861449]], dtype=float32)"
            ]
          },
          "metadata": {},
          "execution_count": 32
        }
      ]
    },
    {
      "cell_type": "code",
      "source": [
        "y_pred=model.predict(x_test)\n",
        "y_pred"
      ],
      "metadata": {
        "colab": {
          "base_uri": "https://localhost:8080/"
        },
        "id": "ZPuTO3mnizmg",
        "outputId": "34ab11d8-2982-4bd4-8436-b0cd1cfa5ce7"
      },
      "execution_count": null,
      "outputs": [
        {
          "output_type": "stream",
          "name": "stdout",
          "text": [
            "1/1 [==============================] - 0s 137ms/step\n"
          ]
        },
        {
          "output_type": "execute_result",
          "data": {
            "text/plain": [
              "array([[0.04906746],\n",
              "       [0.04906746],\n",
              "       [0.04906746],\n",
              "       [0.04906746],\n",
              "       [0.04906746],\n",
              "       [0.04906746]], dtype=float32)"
            ]
          },
          "metadata": {},
          "execution_count": 27
        }
      ]
    }
  ]
}